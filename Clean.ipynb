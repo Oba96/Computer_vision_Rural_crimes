{
 "cells": [
  {
   "cell_type": "code",
   "execution_count": 9,
   "metadata": {},
   "outputs": [],
   "source": [
    "import os\n",
    "import seaborn as sns\n",
    "import numpy as np\n",
    "from matplotlib.pyplot import imread"
   ]
  },
  {
   "cell_type": "code",
   "execution_count": 11,
   "metadata": {},
   "outputs": [
    {
     "name": "stdout",
     "output_type": "stream",
     "text": [
      "e30f0b0749211260.jpg\n",
      "f5ea0a50bf197280.jpg\n",
      "00cd78afd11ade07.jpg\n",
      "ae9642ae52cfd306.jpg\n",
      "49e7b4489f18b0a1.jpg\n",
      "9a39fbdfcb9b5f24.jpg\n",
      "3dc06a2e0553cd3e.jpg\n",
      "a0a92d7691114b97.jpg\n",
      "d143a65486352463.jpg\n",
      "1ec0f9350bc3f625.jpg\n",
      "1682a7f4d784b821.jpg\n",
      "dae95b05612841c8.jpg\n",
      "09760bddfaf83fbf.jpg\n",
      "e90bd0fa97eed141.jpg\n",
      "2e015f2e5c475a31.jpg\n",
      "17d4299ad131ab04.jpg\n",
      "a84400b237181984.jpg\n",
      "21a79b882b2b2e7b.jpg\n",
      "a479013ab8fcf185.jpg\n",
      "1248a819c2a5e516.jpg\n",
      "988578a4a052fe60.jpg\n",
      "cbdc73b6bb8247b3.jpg\n",
      "01d31b194d86902a.jpg\n"
     ]
    },
    {
     "name": "stderr",
     "output_type": "stream",
     "text": [
      "/home/msc1/anaconda3/envs/Object-Detection/lib/python3.7/site-packages/PIL/TiffImagePlugin.py:788: UserWarning: Corrupt EXIF data.  Expecting to read 4 bytes but only got 0. \n",
      "  warnings.warn(str(msg))\n"
     ]
    },
    {
     "name": "stdout",
     "output_type": "stream",
     "text": [
      "ff2e57141305d6e0.jpg\n",
      "9954c9778ea3ba26.jpg\n",
      "39fea56ee8477e35.jpg\n",
      "bd40413c8180b67b.jpg\n",
      "6ee75d419ed4e295.jpg\n",
      "70b1622f09482c7e.jpg\n",
      "f1ed7aef63ebd725.jpg\n",
      "3ef66b4c753be8d4.jpg\n",
      "ecccf93f702f02b0.jpg\n",
      "0815e69ae8a90e65.jpg\n",
      "1e52e037711bca5f.jpg\n",
      "cleaned\n",
      "d1bcade1ce0e5acb.jpg\n",
      "1_r2g012393_large_7d08e7a96fb62b4963ebd6487eef2830492fec04.png\n",
      "5a3484c34d5f6caa.jpg\n",
      "842b660fb81fa24a.jpg\n",
      "e988713eba8ec991.jpg\n",
      "d6422174bdff4e2f.jpg\n",
      "09dd073f4452cca3.jpg\n",
      "03f802136e0e7581.jpg\n",
      "ec59d4b45208e633.jpg\n",
      "a22496e5909f253a.jpg\n",
      "e4fb94754531ed4d.jpg\n",
      "bdbda6f032786d4a.jpg\n",
      "dfd096cf789e9a00.jpg\n",
      "7285e2da1ec980f8.jpg\n",
      "0b097d109cc2a2b6.jpg\n",
      "c6872def8bde0e48.jpg\n",
      "08210a5bd9df28d2.jpg\n",
      "17f788e49ce34540.jpg\n",
      "cf52a37130e744b8.jpg\n",
      "6225bd0f0c6cba3a.jpg\n",
      "a00cd03ab20c2618.jpg\n",
      "14d7dfda9e1a41de.jpg\n",
      "c52a928286ca35f8.jpg\n",
      "848a038a2d7b9059.jpg\n",
      "285a333436ee66d7.jpg\n",
      "a51c9f36d861b187.jpg\n",
      "e52032a93946193c.jpg\n",
      "b76aff4bdadb5255.jpg\n",
      "8bd0e146276b0b0f.jpg\n",
      "043a244da912ff4b.jpg\n",
      "36fa9588a25e5e16.jpg\n",
      "09de28d3ce4f699d.jpg\n",
      "56a9bda8badffdd6.jpg\n"
     ]
    },
    {
     "name": "stderr",
     "output_type": "stream",
     "text": [
      "/home/msc1/anaconda3/envs/Object-Detection/lib/python3.7/site-packages/PIL/Image.py:2860: UserWarning: image file could not be identified because WEBP support not installed\n",
      "  warnings.warn(message)\n"
     ]
    },
    {
     "name": "stdout",
     "output_type": "stream",
     "text": [
      "GettyImages_181833828_16x9a.jpg\n",
      "57004847c13b9133.jpg\n",
      "f990a73afcfbdb9a.jpg\n",
      "0b2788dbb074b2ca.jpg\n",
      "d11b3d54e395eef3.jpg\n",
      ".ipynb_checkpoints\n",
      "0ed54e6ff77a2ea8.jpg\n",
      "182624d66ffb58a0.jpg\n",
      "0d013bbc913f250b.jpg\n"
     ]
    }
   ],
   "source": [
    "dim1 = []\n",
    "dim2 = []\n",
    "for image_filename in os.listdir('./images'):\n",
    "    name, ext = os.path.splitext(image_filename)\n",
    "    try:\n",
    "        if not ext == '.xml':\n",
    "            img = imread('./images/'+image_filename)\n",
    "            d1,d2,color = img.shape\n",
    "            dim1.append(d1)\n",
    "            dim2.append(d2)\n",
    "    except:\n",
    "        print(image_filename)\n",
    "        continue"
   ]
  },
  {
   "cell_type": "code",
   "execution_count": 12,
   "metadata": {},
   "outputs": [
    {
     "name": "stderr",
     "output_type": "stream",
     "text": [
      "/home/msc1/anaconda3/envs/Object-Detection/lib/python3.7/site-packages/seaborn/_decorators.py:43: FutureWarning: Pass the following variables as keyword args: x, y. From version 0.12, the only valid positional argument will be `data`, and passing other arguments without an explicit keyword will result in an error or misinterpretation.\n",
      "  FutureWarning\n"
     ]
    },
    {
     "data": {
      "text/plain": [
       "<seaborn.axisgrid.JointGrid at 0x7f2ee5de59d0>"
      ]
     },
     "execution_count": 12,
     "metadata": {},
     "output_type": "execute_result"
    },
    {
     "data": {
      "image/png": "[encoded data removed]",
      "text/plain": [
       "<Figure size 432x432 with 3 Axes>"
      ]
     },
     "metadata": {
      "needs_background": "light"
     },
     "output_type": "display_data"
    }
   ],
   "source": [
    "sns.jointplot(dim1,dim2)"
   ]
  },
  {
   "cell_type": "code",
   "execution_count": 13,
   "metadata": {},
   "outputs": [
    {
     "data": {
      "text/plain": [
       "543.1565464895635"
      ]
     },
     "execution_count": 13,
     "metadata": {},
     "output_type": "execute_result"
    }
   ],
   "source": [
    "np.mean(dim1)"
   ]
  },
  {
   "cell_type": "code",
   "execution_count": 14,
   "metadata": {},
   "outputs": [
    {
     "name": "stdout",
     "output_type": "stream",
     "text": [
      "Min: 100\n",
      "Max: 4320\n"
     ]
    }
   ],
   "source": [
    "print('Min:', np.min(dim1))\n",
    "print('Max:', np.max(dim1))"
   ]
  },
  {
   "cell_type": "code",
   "execution_count": 15,
   "metadata": {},
   "outputs": [
    {
     "data": {
      "text/plain": [
       "708.1705882352941"
      ]
     },
     "execution_count": 15,
     "metadata": {},
     "output_type": "execute_result"
    }
   ],
   "source": [
    "np.mean(dim2)"
   ]
  },
  {
   "cell_type": "code",
   "execution_count": 16,
   "metadata": {},
   "outputs": [
    {
     "name": "stdout",
     "output_type": "stream",
     "text": [
      "Min: 100\n",
      "Max: 6509\n"
     ]
    }
   ],
   "source": [
    "print('Min:', np.min(dim2))\n",
    "print('Max:', np.max(dim2))"
   ]
  },
  {
   "cell_type": "code",
   "execution_count": null,
   "metadata": {},
   "outputs": [],
   "source": []
  }
 ],
 "metadata": {
  "kernelspec": {
   "display_name": "Python 3",
   "language": "python",
   "name": "python3"
  },
  "language_info": {
   "codemirror_mode": {
    "name": "ipython",
    "version": 3
   },
   "file_extension": ".py",
   "mimetype": "text/x-python",
   "name": "python",
   "nbconvert_exporter": "python",
   "pygments_lexer": "ipython3",
   "version": "3.8.10"
  }
 },
 "nbformat": 4,
 "nbformat_minor": 4
}
